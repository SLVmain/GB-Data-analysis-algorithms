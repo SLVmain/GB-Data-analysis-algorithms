{
 "cells": [
  {
   "cell_type": "markdown",
   "metadata": {
    "id": "OrfwY87Op9UB"
   },
   "source": [
    "1. Сгенерировать датасет при помощи sklearn.datasets.make_regression и обучить линейную модель при помощи градиентного и стохастического градиентного спуска. Нанести среднеквадратичную ошибку для обоих методов на один график, сделать выводы о разнице скорости сходимости каждого из методов.\n",
    "\n",
    "2. Модифицировать решение первого задания путем добавления 𝐿2 -регуляризации (в функцию, считающую MSE, нужно добавить норму вектора весов) и сравнить результаты.\n",
    "\n",
    "3. [опция]. Модернизировать решение задания 2, заменив L2 регуляризацию на L1 регуляризацию."
   ]
  },
  {
   "cell_type": "code",
   "execution_count": 256,
   "metadata": {
    "id": "c7NGnJrtiqs_"
   },
   "outputs": [],
   "source": [
    "import numpy as np\n",
    "from sklearn import datasets\n",
    "import matplotlib.pyplot as plt\n",
    "\n",
    "%matplotlib inline"
   ]
  },
  {
   "cell_type": "code",
   "execution_count": 257,
   "metadata": {
    "id": "L92vtZuDiqtD"
   },
   "outputs": [],
   "source": [
    "# сгенерируем набор данных\n",
    "X, y, coef = datasets.make_regression(n_samples=10000, n_features = 2, n_informative = 2, n_targets = 1, effective_rank = None,\n",
    "                                              noise = 5, coef = True, random_state = 2)\n"
   ]
  },
  {
   "cell_type": "code",
   "execution_count": 258,
   "metadata": {
    "colab": {
     "base_uri": "https://localhost:8080/"
    },
    "id": "wjCsgTnsUFsp",
    "outputId": "bd4f55b2-fccf-4c4b-e20f-77f75fd97c1c"
   },
   "outputs": [
    {
     "data": {
      "text/plain": [
       "((10000, 2), (10000,), array([47.46102593,  1.66486956]))"
      ]
     },
     "execution_count": 258,
     "metadata": {},
     "output_type": "execute_result"
    }
   ],
   "source": [
    "X.shape, y.shape, coef"
   ]
  },
  {
   "cell_type": "code",
   "execution_count": 259,
   "metadata": {
    "colab": {
     "base_uri": "https://localhost:8080/"
    },
    "id": "a8jsVpyhaV77",
    "outputId": "0201edac-fc16-4a7f-f07d-7c3130540796"
   },
   "outputs": [
    {
     "data": {
      "text/plain": [
       "array([[-2.75161769e-01,  3.88051923e-01],\n",
       "       [-7.39931870e-01,  6.41540019e-01],\n",
       "       [ 1.73259956e+00,  1.38746003e+00],\n",
       "       ...,\n",
       "       [ 9.95690738e-02,  1.14050425e+00],\n",
       "       [ 5.72821025e-01, -1.62061166e-03],\n",
       "       [-8.10975181e-01, -7.90286210e-01]])"
      ]
     },
     "execution_count": 259,
     "metadata": {},
     "output_type": "execute_result"
    }
   ],
   "source": [
    "X"
   ]
  },
  {
   "cell_type": "code",
   "execution_count": 260,
   "metadata": {
    "id": "gFuv5bwdde-2"
   },
   "outputs": [],
   "source": [
    "# Вопрос нужно ли добавлять единичный столбец? В методичке нам обьясняют без него, Вы с ним, как все-таки нужно делать?\n",
    "X_with_ones = np.hstack((np.ones((X.shape[0], 1)), X))"
   ]
  },
  {
   "cell_type": "code",
   "execution_count": 261,
   "metadata": {},
   "outputs": [
    {
     "data": {
      "text/plain": [
       "array([[ 1.00000000e+00, -2.75161769e-01,  3.88051923e-01],\n",
       "       [ 1.00000000e+00, -7.39931870e-01,  6.41540019e-01],\n",
       "       [ 1.00000000e+00,  1.73259956e+00,  1.38746003e+00],\n",
       "       ...,\n",
       "       [ 1.00000000e+00,  9.95690738e-02,  1.14050425e+00],\n",
       "       [ 1.00000000e+00,  5.72821025e-01, -1.62061166e-03],\n",
       "       [ 1.00000000e+00, -8.10975181e-01, -7.90286210e-01]])"
      ]
     },
     "execution_count": 261,
     "metadata": {},
     "output_type": "execute_result"
    }
   ],
   "source": [
    "X_with_ones"
   ]
  },
  {
   "cell_type": "code",
   "execution_count": 262,
   "metadata": {
    "id": "AYmQfxR7d6Bx"
   },
   "outputs": [],
   "source": [
    "X_with_ones = X_with_ones.T"
   ]
  },
  {
   "cell_type": "markdown",
   "metadata": {
    "id": "4mq1B_FniqtF"
   },
   "source": [
    "Отмасштабируем получившиеся признаки методом стандартизации и Robust scale"
   ]
  },
  {
   "cell_type": "code",
   "execution_count": 263,
   "metadata": {
    "id": "NXojoc5wZrfj"
   },
   "outputs": [],
   "source": [
    "def calc_std_feat(x: np.array):\n",
    "        res = (x - x.mean()) / x.std()\n",
    "        return res"
   ]
  },
  {
   "cell_type": "code",
   "execution_count": 264,
   "metadata": {
    "colab": {
     "base_uri": "https://localhost:8080/"
    },
    "id": "rOKEKtFKiqtG",
    "outputId": "5825809e-59e0-44cd-8973-092803c7acd7"
   },
   "outputs": [
    {
     "data": {
      "text/plain": [
       "array([[ 1.00000000e+00,  1.00000000e+00,  1.00000000e+00, ...,\n",
       "         1.00000000e+00,  1.00000000e+00,  1.00000000e+00],\n",
       "       [-2.77754356e-01, -7.44773351e-01,  1.73972197e+00, ...,\n",
       "         9.87897050e-02,  5.74331592e-01, -8.16160421e-01],\n",
       "       [ 3.85504659e-01,  6.35711699e-01,  1.37197680e+00, ...,\n",
       "         1.12821753e+00,  8.75901031e-04, -7.77581502e-01]])"
      ]
     },
     "execution_count": 264,
     "metadata": {},
     "output_type": "execute_result"
    }
   ],
   "source": [
    "def standartization_data (X):\n",
    "    X_st = X.copy().astype(np.float64)\n",
    "    for i in range(X.shape[0]):\n",
    "        if i == 0:\n",
    "          continue\n",
    "        X_st[i] = calc_std_feat(X[i])\n",
    "    return X_st\n",
    "X_stand = standartization_data(X_with_ones)\n",
    "X_stand"
   ]
  },
  {
   "cell_type": "code",
   "execution_count": 265,
   "metadata": {
    "colab": {
     "base_uri": "https://localhost:8080/"
    },
    "id": "N6vLvlbHiOYz",
    "outputId": "42ea3b0b-5bc5-483e-f9c5-27d83eb6cdc6"
   },
   "outputs": [
    {
     "data": {
      "text/plain": [
       "(-1.1368683772161604e-17, 1.0)"
      ]
     },
     "execution_count": 265,
     "metadata": {},
     "output_type": "execute_result"
    }
   ],
   "source": [
    "# проверка: среднее значение должно быть равно нулю, стандартная ошибка - единице\n",
    "np.mean(X_stand[1]), np.std(X_stand[1])"
   ]
  },
  {
   "cell_type": "code",
   "execution_count": 266,
   "metadata": {},
   "outputs": [
    {
     "data": {
      "text/plain": [
       "array([[ 1.        ,  1.        ,  1.        , ...,  1.        ,\n",
       "         1.        ,  1.        ],\n",
       "       [ 0.26124802, -0.44198395,  3.29914124, ...,  0.82824384,\n",
       "         1.54430948, -0.5494778 ],\n",
       "       [ 1.25482063,  1.63081558,  2.73722713, ...,  2.37092147,\n",
       "         0.67682542, -0.49298999]])"
      ]
     },
     "execution_count": 266,
     "metadata": {},
     "output_type": "execute_result"
    }
   ],
   "source": [
    "def robust_scale(X):\n",
    "    X_rob = X.copy().astype(np.float64)\n",
    "    for i in range(X.shape[0]):\n",
    "        if i == 0:\n",
    "          continue\n",
    "        percentiles = np.percentile(X[i], (25.0, 75.0))\n",
    "        X_rob[i] = (X[i] - np.median(X[i])) / percentiles[1] - percentiles[0]\n",
    "    return X_rob\n",
    "X_rob = robust_scale(X_with_ones)\n",
    "X_rob  "
   ]
  },
  {
   "cell_type": "markdown",
   "metadata": {
    "id": "oFPTJccEiqtO"
   },
   "source": [
    "Далее реализуем градиентный спуск обычный и стохастический градиентный спуск."
   ]
  },
  {
   "cell_type": "code",
   "execution_count": 267,
   "metadata": {
    "id": "VuM2sgjxqHM4"
   },
   "outputs": [],
   "source": [
    "def calc_mse(y, y_pred):\n",
    "    err = np.mean((y - y_pred)**2)\n",
    "    return err"
   ]
  },
  {
   "cell_type": "code",
   "execution_count": 270,
   "metadata": {},
   "outputs": [],
   "source": [
    "def gradient_descent_alpha_div_i(X, y, start_alpha, epsilon):\n",
    "    n = X.shape[1]\n",
    "    W = np.random.randn(X.shape[0])\n",
    "    i=1\n",
    "    W_prev = np.array([])\n",
    "    err_prev = 0\n",
    "    err = 0\n",
    "    errors = []\n",
    "    while True:\n",
    "        W_prev = W.copy()\n",
    "        err_prev = err\n",
    "        y_pred = np.dot(W, X)\n",
    "        err = calc_mse(y, y_pred)\n",
    "        # W_start = W.copy()\n",
    "        W -= start_alpha/i * (1/n * 2 * np.dot(X, (y_pred - y)))\n",
    "        errors.append(err)\n",
    "        if i % 10 == 0:\n",
    "            print(i, start_alpha/i, W, err)\n",
    "        if np.sum(np.abs(W - W_prev)) < epsilon:\n",
    "            break\n",
    "        i+=1\n",
    "    print(f\"для заданной точности {epsilon}\\nоптимальное количество итераций = {i-1}\\nпри них получаем W = {W_prev} и mse = {err_prev}\")\n",
    "    return W_prev, errors"
   ]
  },
  {
   "cell_type": "code",
   "execution_count": 271,
   "metadata": {},
   "outputs": [
    {
     "name": "stdout",
     "output_type": "stream",
     "text": [
      "10 0.1 [1.05877443e-02 4.72533403e+01 1.64196452e+00] 25.17494603816963\n",
      "20 0.05 [1.05877443e-02 4.72530107e+01 1.65201936e+00] 25.17468668257522\n",
      "30 0.03333333333333333 [1.05877443e-02 4.72529217e+01 1.65377812e+00] 25.174676757578737\n",
      "40 0.025 [1.05877443e-02 4.72528851e+01 1.65438174e+00] 25.174675256298777\n",
      "50 0.02 [1.05877443e-02 4.72528664e+01 1.65465834e+00] 25.174674867234955\n",
      "60 0.016666666666666666 [1.05877443e-02 4.72528554e+01 1.65480768e+00] 25.17467473185895\n",
      "для заданной точности 1e-05\n",
      "оптимальное количество итераций = 64\n",
      "при них получаем W = [1.05877443e-02 4.72528523e+01 1.65484865e+00] и mse = 25.17467470364971\n"
     ]
    }
   ],
   "source": [
    "W, errors = gradient_descent_alpha_div_i(X_stand, y, 1, 0.00001)"
   ]
  },
  {
   "cell_type": "code",
   "execution_count": 272,
   "metadata": {},
   "outputs": [
    {
     "data": {
      "text/plain": [
       "Text(0, 0.5, 'MSE')"
      ]
     },
     "execution_count": 272,
     "metadata": {},
     "output_type": "execute_result"
    },
    {
     "data": {
      "image/png": "[encoded data removed]",
      "text/plain": [
       "<Figure size 432x288 with 1 Axes>"
      ]
     },
     "metadata": {
      "needs_background": "light"
     },
     "output_type": "display_data"
    }
   ],
   "source": [
    "# Визуализируем изменение функционала ошибки\n",
    "plt.plot(range(len(errors)), errors)\n",
    "plt.title('MSE')\n",
    "plt.xlabel('Iteration number')\n",
    "plt.ylabel('MSE')"
   ]
  },
  {
   "cell_type": "code",
   "execution_count": 273,
   "metadata": {},
   "outputs": [],
   "source": [
    "def gradient_descent(X: np.array, \n",
    "                     y: np.array,\n",
    "                     n_iters: int = 1000,\n",
    "                     alpha: float = 0.01,  \n",
    "                     epsilon: float = 1e-5):\n",
    "    n = X.shape[1]\n",
    "    W = np.random.randn(X.shape[0])\n",
    "    errors, weights = [], [W]\n",
    "    i=1\n",
    "    W_prev = np.array([])\n",
    "    err_prev = 0\n",
    "    err = 0\n",
    "    for n_iter in range(n_iters):\n",
    "    #while True:\n",
    "        W_prev = W.copy()\n",
    "        err_prev = err\n",
    "        y_pred = np.dot(W, X)\n",
    "        err = calc_mse(y, y_pred)\n",
    "        W -= alpha * (1/n * 2 * np.dot(X, (y_pred - y)))\n",
    "        errors.append(err)\n",
    "        weights.append(W)\n",
    "        if np.abs(err - err_prev) < epsilon:\n",
    "            break\n",
    "        #i+=1\n",
    "    print(f\"для заданной точности {epsilon}\\nполучаем W = {W_prev} и mse = {err_prev}\")\n",
    "    return W_prev, errors, weights"
   ]
  },
  {
   "cell_type": "code",
   "execution_count": 274,
   "metadata": {},
   "outputs": [
    {
     "name": "stdout",
     "output_type": "stream",
     "text": [
      "для заданной точности 1e-05\n",
      "получаем W = [1.01861552e-02 4.72374879e+01 1.65602690e+00] и mse = 25.174920146667677\n"
     ]
    }
   ],
   "source": [
    "W, errors, weights = gradient_descent(X_stand, y, 1000, 0.01, 0.00001)"
   ]
  },
  {
   "cell_type": "code",
   "execution_count": 275,
   "metadata": {},
   "outputs": [
    {
     "data": {
      "text/plain": [
       "Text(0, 0.5, 'MSE')"
      ]
     },
     "execution_count": 275,
     "metadata": {},
     "output_type": "execute_result"
    },
    {
     "data": {
      "image/png": "[encoded data removed]",
      "text/plain": [
       "<Figure size 432x288 with 1 Axes>"
      ]
     },
     "metadata": {
      "needs_background": "light"
     },
     "output_type": "display_data"
    }
   ],
   "source": [
    "# Визуализируем изменение функционала ошибки\n",
    "plt.plot(range(len(errors)), errors)\n",
    "plt.title('MSE')\n",
    "plt.xlabel('Iteration number')\n",
    "plt.ylabel('MSE')"
   ]
  },
  {
   "cell_type": "code",
   "execution_count": 276,
   "metadata": {
    "id": "iluXxmWuLkGU"
   },
   "outputs": [],
   "source": [
    "# стохастический градиентный спуск \n",
    "def sgd_gradient_descent(X, y, iterations, qty_in_batch=64, alpha=1e-2):\n",
    "    W = np.random.randn(X.shape[0])\n",
    "    n = X.shape[1]\n",
    "    n_batch = n // qty_in_batch\n",
    "    if n % qty_in_batch != 0:\n",
    "        n_batch += 1\n",
    "    errs = []\n",
    "    for i in range(1, iterations+1):\n",
    "        for b in range(n_batch):\n",
    "            start_ = qty_in_batch*b\n",
    "            end_ = qty_in_batch*(b+1)\n",
    "        \n",
    "            X_tmp = X[:, start_ : end_]\n",
    "            y_tmp = y[start_ : end_]\n",
    "            y_pred_tmp = np.dot(W, X_tmp)\n",
    "            W -= (alpha * (1/n * 2 * np.dot((y_pred_tmp - y_tmp), X_tmp.T)))\n",
    "        errs.append(calc_mse(y_tmp, y_pred_tmp))\n",
    "    y_pred = np.dot(W, X_stand)\n",
    "    mse_ = (sum((y - y_pred)**2)) / len(y)\n",
    "    return W, mse_, errs"
   ]
  },
  {
   "cell_type": "code",
   "execution_count": 277,
   "metadata": {},
   "outputs": [],
   "source": [
    "W, mse_, errs = sgd_gradient_descent(X_stand, y, 1000, qty_in_batch=64, alpha=1e-2)"
   ]
  },
  {
   "cell_type": "code",
   "execution_count": 278,
   "metadata": {},
   "outputs": [
    {
     "data": {
      "text/plain": [
       "25.174675077476344"
      ]
     },
     "execution_count": 278,
     "metadata": {},
     "output_type": "execute_result"
    }
   ],
   "source": [
    "mse_"
   ]
  },
  {
   "cell_type": "code",
   "execution_count": 279,
   "metadata": {},
   "outputs": [
    {
     "data": {
      "text/plain": [
       "Text(0, 0.5, 'MSE')"
      ]
     },
     "execution_count": 279,
     "metadata": {},
     "output_type": "execute_result"
    },
    {
     "data": {
      "image/png": "[encoded data removed]",
      "text/plain": [
       "<Figure size 432x288 with 1 Axes>"
      ]
     },
     "metadata": {
      "needs_background": "light"
     },
     "output_type": "display_data"
    }
   ],
   "source": [
    "# Визуализируем изменение функционала ошибки\n",
    "plt.plot(range(len(errs)), errs)\n",
    "plt.title('MSE')\n",
    "plt.xlabel('Iteration number')\n",
    "plt.ylabel('MSE')"
   ]
  },
  {
   "cell_type": "code",
   "execution_count": 280,
   "metadata": {},
   "outputs": [
    {
     "data": {
      "image/png": "[encoded data removed]",
      "text/plain": [
       "<Figure size 1368x864 with 1 Axes>"
      ]
     },
     "metadata": {
      "needs_background": "light"
     },
     "output_type": "display_data"
    }
   ],
   "source": [
    "plt.figure(figsize=(19, 12))\n",
    "plt.plot(range(len(errors)), errors, label=\"Градиентный спуск\")\n",
    "plt.plot(range(len(errs)), errs, label=\"Стохастический градиентный спуск\")\n",
    "plt.axis([0, 400, 0, 1500])\n",
    "plt.xlabel('Iteration number')\n",
    "plt.ylabel('MSE')\n",
    "plt.legend()\n",
    "plt.show()"
   ]
  },
  {
   "cell_type": "markdown",
   "metadata": {
    "id": "o10vdq29Lk73"
   },
   "source": [
    "Стохастический спуск сходится быстрее, но незначительно"
   ]
  },
  {
   "cell_type": "markdown",
   "metadata": {},
   "source": [
    "# Регуляризация"
   ]
  },
  {
   "cell_type": "markdown",
   "metadata": {
    "id": "OrfwY87Op9UB"
   },
   "source": [
    "2. Модифицировать решение первого задания путем добавления 𝐿2 -регуляризации (в функцию, считающую MSE, нужно добавить норму вектора весов) и сравнить результаты.\n",
    "\n",
    "3. [опция]. Модернизировать решение задания 2, заменив L2 регуляризацию на L1 регуляризацию."
   ]
  },
  {
   "cell_type": "markdown",
   "metadata": {},
   "source": [
    "# L2 регуляризация - Ridge\n",
    "\n",
    "f(x, W) + (lambda_/2) * np.sum(W**2)\n",
    "\n",
    "df/dw1 = d(w1**2 + w2**2 + w3**2) / dw1 = 2*w1 + 0 + 0 = 2*w1\n",
    "\n",
    "f'(x, W) + lambda_ * np.sum(W)"
   ]
  },
  {
   "cell_type": "code",
   "execution_count": 281,
   "metadata": {},
   "outputs": [],
   "source": [
    "#код из урока\n",
    "def eval_model_reg2(X, y, iterations, alpha=1e-4, lambda_=1e-8):\n",
    "    np.random.seed(15)\n",
    "    W = np.random.randn(X.shape[0])\n",
    "    n = X.shape[1]\n",
    "    for i in range(1, iterations+1):\n",
    "        y_pred = np.dot(W, X)\n",
    "        err = calc_mse(y, y_pred)\n",
    "        W -= alpha * (1/n * 2 * np.dot((y_pred - y), X.T) + lambda_ * W) \n",
    "    if i % (iterations / 10) == 0:\n",
    "        print(i, W, err)\n",
    "    return W"
   ]
  },
  {
   "cell_type": "code",
   "execution_count": 282,
   "metadata": {
    "id": "bXdxQYBCQxKJ",
    "outputId": "24941c02-d71b-412e-e823-a3bd453afedc"
   },
   "outputs": [
    {
     "name": "stdout",
     "output_type": "stream",
     "text": [
      "5000 [1.05872150e-02 4.72504636e+01 1.65509188e+00] 25.174680194493913\n"
     ]
    },
    {
     "data": {
      "text/plain": [
       "array([1.05872150e-02, 4.72504636e+01, 1.65509188e+00])"
      ]
     },
     "execution_count": 282,
     "metadata": {},
     "output_type": "execute_result"
    }
   ],
   "source": [
    "eval_model_reg2(X_stand, y, iterations=5000, alpha=1e-2, lambda_=1e-4)"
   ]
  },
  {
   "cell_type": "code",
   "execution_count": 283,
   "metadata": {},
   "outputs": [],
   "source": [
    "def gradient_descent_alpha_div_i_reg2(X, y, start_alpha, epsilon, lambda_):\n",
    "    lambda_=1e-8\n",
    "    n = X.shape[1]\n",
    "    W = np.random.randn(X.shape[0])\n",
    "    i=1\n",
    "    W_prev = np.array([])\n",
    "    err_prev = 0\n",
    "    err = 0\n",
    "    errors = []\n",
    "    while True:\n",
    "        W_prev = W.copy()\n",
    "        err_prev = err\n",
    "        y_pred = np.dot(W, X)\n",
    "        err = calc_mse(y, y_pred)\n",
    "        W -= start_alpha/i * (1/n * 2 * np.dot(X, (y_pred - y))+ lambda_ * W) \n",
    "        errors.append(err)\n",
    "        #if i % 10 == 0:\n",
    "            #print(i, start_alpha/i, W, err)\n",
    "        if np.sum(np.abs(W - W_prev)) < epsilon:\n",
    "            break\n",
    "        i+=1\n",
    "    #print(f\"для заданной точности {epsilon}\\nоптимальное количество итераций = {i-1}\\nпри них получаем W = {W_prev} и mse = {err_prev}\")\n",
    "    return W_prev, err_prev"
   ]
  },
  {
   "cell_type": "code",
   "execution_count": 284,
   "metadata": {},
   "outputs": [
    {
     "data": {
      "text/plain": [
       "(array([1.05877443e-02, 4.72528326e+01, 1.65483073e+00]), 25.174674714829155)"
      ]
     },
     "execution_count": 284,
     "metadata": {},
     "output_type": "execute_result"
    }
   ],
   "source": [
    "gradient_descent_alpha_div_i_reg2(X_stand, y, start_alpha=1, epsilon = 0.00001, lambda_=1e-5)"
   ]
  },
  {
   "cell_type": "code",
   "execution_count": 285,
   "metadata": {
    "id": "veLIgUTTQxKK"
   },
   "outputs": [],
   "source": [
    "#попробуем разные лямбды\n",
    "lambdas_list = np.logspace(-10, 5, 10)\n",
    "errors = []\n",
    "for i in lambdas_list:\n",
    "    weight, error = gradient_descent_alpha_div_i_reg2(X_stand, y, start_alpha=1, epsilon = 0.00001, lambda_=1e-4)\n",
    "    errors.append(error)"
   ]
  },
  {
   "cell_type": "code",
   "execution_count": 286,
   "metadata": {
    "id": "dCYaHH6BQxKK",
    "scrolled": true
   },
   "outputs": [
    {
     "data": {
      "image/png": "[encoded data removed]",
      "text/plain": [
       "<Figure size 720x720 with 1 Axes>"
      ]
     },
     "metadata": {
      "needs_background": "light"
     },
     "output_type": "display_data"
    }
   ],
   "source": [
    "plt.figure(figsize=(10, 10))\n",
    "plt.plot(lambdas_list, errors)\n",
    "plt.xlabel('lambdas')\n",
    "plt.ylabel('MSE')\n",
    "plt.show()"
   ]
  },
  {
   "cell_type": "markdown",
   "metadata": {
    "id": "5GSFEB_SQxKL"
   },
   "source": [
    "```3*. Напишите функцию наподобие eval_model_reg2, но для применения L1-регуляризации.```"
   ]
  },
  {
   "cell_type": "markdown",
   "metadata": {},
   "source": [
    "# L1 регуляризация - Lasso\n",
    "\n",
    "f(x, W) + (lambda_/2) * np.sum(np.abs(W))"
   ]
  },
  {
   "cell_type": "code",
   "execution_count": 287,
   "metadata": {
    "id": "pBW_PHtsIHFD"
   },
   "outputs": [],
   "source": [
    "def gradient_descent_alpha_div_i_reg1(X, y, start_alpha, epsilon, lambda_):\n",
    "    lambda_=1e-8\n",
    "    n = X.shape[1]\n",
    "    W = np.random.randn(X.shape[0])\n",
    "    i=1\n",
    "    W_prev = np.array([])\n",
    "    err_prev = 0\n",
    "    err = 0\n",
    "    errors = []\n",
    "    while True:\n",
    "        W_prev = W.copy()\n",
    "        err_prev = err\n",
    "        y_pred = np.dot(W, X)\n",
    "        err = calc_mse(y, y_pred)\n",
    "        W -= start_alpha/i * (1/n * 2 * np.dot(X, (y_pred - y))+ lambda_ * np.sign(W)) \n",
    "        errors.append(err)\n",
    "        #if i % 10 == 0:\n",
    "            #print(i, start_alpha/i, W, err)\n",
    "        if np.sum(np.abs(W - W_prev)) < epsilon:\n",
    "            break\n",
    "        i+=1\n",
    "    #print(f\"для заданной точности {epsilon}\\nоптимальное количество итераций = {i-1}\\nпри них получаем W = {W_prev} и mse = {err_prev}\")\n",
    "    return W_prev, err_prev"
   ]
  },
  {
   "cell_type": "code",
   "execution_count": 288,
   "metadata": {},
   "outputs": [
    {
     "data": {
      "text/plain": [
       "(array([1.05877393e-02, 4.72528395e+01, 1.65483519e+00]), 25.174674711863076)"
      ]
     },
     "execution_count": 288,
     "metadata": {},
     "output_type": "execute_result"
    }
   ],
   "source": [
    "gradient_descent_alpha_div_i_reg1(X_stand, y, start_alpha=1, epsilon = 0.00001, lambda_=1e-5)"
   ]
  },
  {
   "cell_type": "code",
   "execution_count": 289,
   "metadata": {},
   "outputs": [],
   "source": [
    "#попробуем разные лямбды\n",
    "lambdas_list = np.logspace(-10, 1, 10)\n",
    "errors = []\n",
    "for i in lambdas_list:\n",
    "    weight, error = gradient_descent_alpha_div_i_reg1(X_stand, y, start_alpha=1, epsilon = 0.00001, lambda_=1e-4)\n",
    "    errors.append(error)"
   ]
  },
  {
   "cell_type": "code",
   "execution_count": 290,
   "metadata": {},
   "outputs": [
    {
     "data": {
      "image/png": "[encoded data removed]",
      "text/plain": [
       "<Figure size 720x720 with 1 Axes>"
      ]
     },
     "metadata": {
      "needs_background": "light"
     },
     "output_type": "display_data"
    }
   ],
   "source": [
    "plt.figure(figsize=(10, 10))\n",
    "plt.plot(lambdas_list, errors)\n",
    "plt.xlabel('lambdas')\n",
    "plt.ylabel('MSE')\n",
    "plt.show()"
   ]
  },
  {
   "cell_type": "code",
   "execution_count": null,
   "metadata": {},
   "outputs": [],
   "source": []
  }
 ],
 "metadata": {
  "colab": {
   "collapsed_sections": [],
   "name": "HW_DA_algorithm_02.ipynb",
   "provenance": []
  },
  "kernelspec": {
   "display_name": "Python 3",
   "language": "python",
   "name": "python3"
  },
  "language_info": {
   "codemirror_mode": {
    "name": "ipython",
    "version": 3
   },
   "file_extension": ".py",
   "mimetype": "text/x-python",
   "name": "python",
   "nbconvert_exporter": "python",
   "pygments_lexer": "ipython3",
   "version": "3.7.6"
  }
 },
 "nbformat": 4,
 "nbformat_minor": 1
}
